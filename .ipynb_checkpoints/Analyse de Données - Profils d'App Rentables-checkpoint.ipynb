{
 "cells": [
  {
   "cell_type": "markdown",
   "id": "16225859",
   "metadata": {},
   "source": [
    "# Analyse des performences des application mobiles Google PlayStore et AppStore"
   ]
  },
  {
   "cell_type": "markdown",
   "id": "b4634085",
   "metadata": {},
   "source": [
    "**Descripion du projet**\n",
    "\n",
    "Une entreprise de conception d'applications mobiles exclusivement gratuites souhaites augmenter ses profits. Elle tire ses profits des publicités qu'elle présente aux utilisateurs via l'interface des applications.\n",
    "\n",
    "**Objectif du projet**\n",
    "\n",
    "Nous, en tant qu'équipe de Data Analysts, avons pour mission d'analyser des données afin d'aider les responsables et l'équipe des developpeurs de l'entreprise à comprendre quels types d'applications sont susceptibles d'attirer plus d'utilisateurs."
   ]
  },
  {
   "cell_type": "markdown",
   "id": "51db950b",
   "metadata": {},
   "source": [
    "### Résumé du résultat de l'analyse\n",
    "\n",
    "Après avoir analysé les données, nous sommes parvenu à une conclusion. \n",
    "Nous avons proposé l'équipe de developpeurs de créer une application qui donne accès un livre populaire (récent  et y ajouter des fonctionalités qui attirerait les adeptes d'autres profils de contenue comme :\n",
    " * Dictionnaire : possibilité de pouvoir, sans quitter l'app, trouver la definition des mots difficiles\n",
    " * Chat ou Forum : possibilité de discuter sur une thématique autour du livre en question\n",
    " * Multilingue\n",
    " * Version audio (pour élargir la champs d'utilisateurs cible)\n",
    " * Etc ."
   ]
  },
  {
   "cell_type": "markdown",
   "id": "28a9a7a7",
   "metadata": {},
   "source": []
  },
  {
   "cell_type": "code",
   "execution_count": 2,
   "id": "bd3cddf1",
   "metadata": {},
   "outputs": [],
   "source": [
    "from csv import reader"
   ]
  },
  {
   "cell_type": "markdown",
   "id": "fa7968cf",
   "metadata": {},
   "source": [
    "### 1- Chargement des datasets"
   ]
  },
  {
   "cell_type": "code",
   "execution_count": 3,
   "id": "df63b9a6",
   "metadata": {},
   "outputs": [],
   "source": [
    "with open(\"datasets/AppleStore.csv\", encoding=\"utf8\") as file:\n",
    "    data = reader(file)\n",
    "    app_ios = list(data)\n",
    "    \n",
    "with open(\"datasets/googleplaystore.csv\", encoding=\"utf8\") as file:\n",
    "    data = reader(file)\n",
    "    app_android = list(data)"
   ]
  },
  {
   "cell_type": "code",
   "execution_count": 4,
   "id": "27c54b84",
   "metadata": {},
   "outputs": [],
   "source": [
    "def explore_data(dataset, start, end, rows_and_columns=False):\n",
    "    dataset_slice = dataset[start:end]    \n",
    "    for row in dataset_slice:\n",
    "        print(row)\n",
    "        print('\\n') # adds a new (empty) line after each row\n",
    "\n",
    "    if rows_and_columns:\n",
    "        print('Number of rows:', len(dataset))\n",
    "        print('Number of columns:', len(dataset[0]))"
   ]
  },
  {
   "cell_type": "code",
   "execution_count": 5,
   "id": "02f610ea",
   "metadata": {},
   "outputs": [
    {
     "name": "stdout",
     "output_type": "stream",
     "text": [
      "['284882215', 'Facebook', '389879808', 'USD', '0.0', '2974676', '212', '3.5', '3.5', '95.0', '4+', 'Social Networking', '37', '1', '29', '1']\n",
      "\n",
      "\n",
      "['389801252', 'Instagram', '113954816', 'USD', '0.0', '2161558', '1289', '4.5', '4.0', '10.23', '12+', 'Photo & Video', '37', '0', '29', '1']\n",
      "\n",
      "\n",
      "['529479190', 'Clash of Clans', '116476928', 'USD', '0.0', '2130805', '579', '4.5', '4.5', '9.24.12', '9+', 'Games', '38', '5', '18', '1']\n",
      "\n",
      "\n",
      "Number of rows: 7198\n",
      "Number of columns: 16\n"
     ]
    }
   ],
   "source": [
    "ios = explore_data(app_ios, 1, 4, True)"
   ]
  },
  {
   "cell_type": "code",
   "execution_count": 6,
   "id": "93de7f71",
   "metadata": {},
   "outputs": [
    {
     "name": "stdout",
     "output_type": "stream",
     "text": [
      "['Photo Editor & Candy Camera & Grid & ScrapBook', 'ART_AND_DESIGN', '4.1', '159', '19M', '10,000+', 'Free', '0', 'Everyone', 'Art & Design', 'January 7, 2018', '1.0.0', '4.0.3 and up']\n",
      "\n",
      "\n",
      "['Coloring book moana', 'ART_AND_DESIGN', '3.9', '967', '14M', '500,000+', 'Free', '0', 'Everyone', 'Art & Design;Pretend Play', 'January 15, 2018', '2.0.0', '4.0.3 and up']\n",
      "\n",
      "\n",
      "['U Launcher Lite – FREE Live Cool Themes, Hide Apps', 'ART_AND_DESIGN', '4.7', '87510', '8.7M', '5,000,000+', 'Free', '0', 'Everyone', 'Art & Design', 'August 1, 2018', '1.2.4', '4.0.3 and up']\n",
      "\n",
      "\n",
      "['Sketch - Draw & Paint', 'ART_AND_DESIGN', '4.5', '215644', '25M', '50,000,000+', 'Free', '0', 'Teen', 'Art & Design', 'June 8, 2018', 'Varies with device', '4.2 and up']\n",
      "\n",
      "\n",
      "Number of rows: 10842\n",
      "Number of columns: 13\n"
     ]
    }
   ],
   "source": [
    "android = explore_data(app_android, 1, 5, True)"
   ]
  },
  {
   "cell_type": "code",
   "execution_count": 7,
   "id": "bb6fa539",
   "metadata": {},
   "outputs": [
    {
     "name": "stdout",
     "output_type": "stream",
     "text": [
      "['App', 'Category', 'Rating', 'Reviews', 'Size', 'Installs', 'Type', 'Price', 'Content Rating', 'Genres', 'Last Updated', 'Current Ver', 'Android Ver']\n",
      "\n",
      "\n",
      "['id', 'track_name', 'size_bytes', 'currency', 'price', 'rating_count_tot', 'rating_count_ver', 'user_rating', 'user_rating_ver', 'ver', 'cont_rating', 'prime_genre', 'sup_devices.num', 'ipadSc_urls.num', 'lang.num', 'vpp_lic']\n"
     ]
    }
   ],
   "source": [
    "print(app_android[0])\n",
    "print(\"\\n\")\n",
    "print(app_ios[0])"
   ]
  },
  {
   "cell_type": "markdown",
   "id": "bbdd8391",
   "metadata": {},
   "source": [
    "### 2- Nettoyage des données\n",
    "\n",
    "Dans cette étape nous allons principalement : \n",
    "* Suppression et/ou correction des données erronées \n",
    "* Suppression des données en double\n",
    "* Modification des données pour les adapter à notre objectif d'analyse."
   ]
  },
  {
   "cell_type": "markdown",
   "id": "cb65837d",
   "metadata": {},
   "source": [
    "En consultant les discussions liées au dataset sur [Kaggle](https://www.kaggle.com/datasets/lava18/google-play-store-apps/discussion/66015), nous avons pu constater que l'une des lignes du dataset des application android a une données(colonne) manquante. Nous la supprimons donc."
   ]
  },
  {
   "cell_type": "markdown",
   "id": "6f642b97",
   "metadata": {},
   "source": [
    "* **Suppression et/ou correction des données erronées**"
   ]
  },
  {
   "cell_type": "code",
   "execution_count": 8,
   "id": "8e34cb2f",
   "metadata": {},
   "outputs": [
    {
     "data": {
      "text/plain": [
       "['Life Made WI-Fi Touchscreen Photo Frame',\n",
       " '1.9',\n",
       " '19',\n",
       " '3.0M',\n",
       " '1,000+',\n",
       " 'Free',\n",
       " '0',\n",
       " 'Everyone',\n",
       " '',\n",
       " 'February 11, 2018',\n",
       " '1.0.19',\n",
       " '4.0 and up']"
      ]
     },
     "execution_count": 8,
     "metadata": {},
     "output_type": "execute_result"
    }
   ],
   "source": [
    "app_android[10473]"
   ]
  },
  {
   "cell_type": "code",
   "execution_count": 9,
   "id": "120d598d",
   "metadata": {},
   "outputs": [],
   "source": [
    "# Supprimons cette ligne\n",
    "del app_android[10473]"
   ]
  },
  {
   "cell_type": "markdown",
   "id": "e8fc52da",
   "metadata": {},
   "source": [
    "* **Suppression des données en double**\n",
    "\n",
    "Verifions ensemble si le dataset des applications Google Store contient des doublons"
   ]
  },
  {
   "cell_type": "code",
   "execution_count": 10,
   "id": "c77ed1cd",
   "metadata": {},
   "outputs": [],
   "source": [
    "duplicates_apps = []\n",
    "uniques_apps = []\n",
    "\n",
    "for app in app_android[1:]:\n",
    "    name = app[0]\n",
    "    if name in uniques_apps:\n",
    "        duplicates_apps.append(name)\n",
    "    else:\n",
    "        uniques_apps.append(name)"
   ]
  },
  {
   "cell_type": "code",
   "execution_count": 11,
   "id": "13f32a55",
   "metadata": {},
   "outputs": [
    {
     "data": {
      "text/plain": [
       "['Quick PDF Scanner + OCR FREE',\n",
       " 'Box',\n",
       " 'Google My Business',\n",
       " 'ZOOM Cloud Meetings',\n",
       " 'join.me - Simple Meetings',\n",
       " 'Box',\n",
       " 'Zenefits',\n",
       " 'Google Ads',\n",
       " 'Google My Business',\n",
       " 'Slack',\n",
       " 'FreshBooks Classic',\n",
       " 'Insightly CRM',\n",
       " 'QuickBooks Accounting: Invoicing & Expenses',\n",
       " 'HipChat - Chat Built for Teams',\n",
       " 'Xero Accounting Software',\n",
       " 'MailChimp - Email, Marketing Automation',\n",
       " 'Crew - Free Messaging and Scheduling',\n",
       " 'Asana: organize team projects',\n",
       " 'Google Analytics',\n",
       " 'AdWords Express']"
      ]
     },
     "execution_count": 11,
     "metadata": {},
     "output_type": "execute_result"
    }
   ],
   "source": [
    "duplicates_apps[:20]"
   ]
  },
  {
   "cell_type": "markdown",
   "id": "257a2359",
   "metadata": {},
   "source": [
    "Comme nous pouvons le voir dans la cellule ci-dessus, le dataset de Google Store a plusieurs app en doublons."
   ]
  },
  {
   "cell_type": "code",
   "execution_count": 12,
   "id": "4b40bf30",
   "metadata": {},
   "outputs": [
    {
     "data": {
      "text/plain": [
       "\"Il y'a 1181 en plus que nous ne devons pas considerer dans le dataset final que nous utiliserons pour l'analyse.\""
      ]
     },
     "execution_count": 12,
     "metadata": {},
     "output_type": "execute_result"
    }
   ],
   "source": [
    "f\"Il y'a {len(duplicates_apps)} en plus que nous ne devons pas considerer dans le dataset final que nous utiliserons pour l'analyse.\""
   ]
  },
  {
   "cell_type": "markdown",
   "id": "dd3c2fc2",
   "metadata": {},
   "source": [
    "* **Modification des données pour les adapter à notre objectif d'analyse**\n",
    "\n",
    "La suppression des doublons ne se fait pas par hasard, nous devons le faire suivant un critère afin de ne pas perdre des informations precieuses.\n",
    "\n",
    "Pour trouver un critère, prenons le temps de bien consulter les informations des application en doublons (essayons sur les 10 premières)."
   ]
  },
  {
   "cell_type": "code",
   "execution_count": 13,
   "id": "25700567",
   "metadata": {},
   "outputs": [
    {
     "name": "stdout",
     "output_type": "stream",
     "text": [
      "['Quick PDF Scanner + OCR FREE', 'BUSINESS', '4.2', '80805', 'Varies with device', '5,000,000+', 'Free', '0', 'Everyone', 'Business', 'February 26, 2018', 'Varies with device', '4.0.3 and up']\n",
      "['Quick PDF Scanner + OCR FREE', 'BUSINESS', '4.2', '80805', 'Varies with device', '5,000,000+', 'Free', '0', 'Everyone', 'Business', 'February 26, 2018', 'Varies with device', '4.0.3 and up']\n",
      "['Quick PDF Scanner + OCR FREE', 'BUSINESS', '4.2', '80804', 'Varies with device', '5,000,000+', 'Free', '0', 'Everyone', 'Business', 'February 26, 2018', 'Varies with device', '4.0.3 and up']\n",
      "['Box', 'BUSINESS', '4.2', '159872', 'Varies with device', '10,000,000+', 'Free', '0', 'Everyone', 'Business', 'July 31, 2018', 'Varies with device', 'Varies with device']\n",
      "['Box', 'BUSINESS', '4.2', '159872', 'Varies with device', '10,000,000+', 'Free', '0', 'Everyone', 'Business', 'July 31, 2018', 'Varies with device', 'Varies with device']\n",
      "['Box', 'BUSINESS', '4.2', '159872', 'Varies with device', '10,000,000+', 'Free', '0', 'Everyone', 'Business', 'July 31, 2018', 'Varies with device', 'Varies with device']\n",
      "['Google My Business', 'BUSINESS', '4.4', '70991', 'Varies with device', '5,000,000+', 'Free', '0', 'Everyone', 'Business', 'July 24, 2018', '2.19.0.204537701', '4.4 and up']\n",
      "['Google My Business', 'BUSINESS', '4.4', '70991', 'Varies with device', '5,000,000+', 'Free', '0', 'Everyone', 'Business', 'July 24, 2018', '2.19.0.204537701', '4.4 and up']\n",
      "['Google My Business', 'BUSINESS', '4.4', '70991', 'Varies with device', '5,000,000+', 'Free', '0', 'Everyone', 'Business', 'July 24, 2018', '2.19.0.204537701', '4.4 and up']\n",
      "['ZOOM Cloud Meetings', 'BUSINESS', '4.4', '31614', '37M', '10,000,000+', 'Free', '0', 'Everyone', 'Business', 'July 20, 2018', '4.1.28165.0716', '4.0 and up']\n",
      "['ZOOM Cloud Meetings', 'BUSINESS', '4.4', '31614', '37M', '10,000,000+', 'Free', '0', 'Everyone', 'Business', 'July 20, 2018', '4.1.28165.0716', '4.0 and up']\n",
      "['join.me - Simple Meetings', 'BUSINESS', '4.0', '6989', 'Varies with device', '1,000,000+', 'Free', '0', 'Everyone', 'Business', 'July 16, 2018', '4.3.0.508', '4.4 and up']\n",
      "['join.me - Simple Meetings', 'BUSINESS', '4.0', '6989', 'Varies with device', '1,000,000+', 'Free', '0', 'Everyone', 'Business', 'July 16, 2018', '4.3.0.508', '4.4 and up']\n",
      "['join.me - Simple Meetings', 'BUSINESS', '4.0', '6989', 'Varies with device', '1,000,000+', 'Free', '0', 'Everyone', 'Business', 'July 16, 2018', '4.3.0.508', '4.4 and up']\n",
      "['Box', 'BUSINESS', '4.2', '159872', 'Varies with device', '10,000,000+', 'Free', '0', 'Everyone', 'Business', 'July 31, 2018', 'Varies with device', 'Varies with device']\n",
      "['Box', 'BUSINESS', '4.2', '159872', 'Varies with device', '10,000,000+', 'Free', '0', 'Everyone', 'Business', 'July 31, 2018', 'Varies with device', 'Varies with device']\n",
      "['Box', 'BUSINESS', '4.2', '159872', 'Varies with device', '10,000,000+', 'Free', '0', 'Everyone', 'Business', 'July 31, 2018', 'Varies with device', 'Varies with device']\n",
      "['Zenefits', 'BUSINESS', '4.2', '296', '14M', '50,000+', 'Free', '0', 'Everyone', 'Business', 'June 15, 2018', '3.2.1', '4.1 and up']\n",
      "['Zenefits', 'BUSINESS', '4.2', '296', '14M', '50,000+', 'Free', '0', 'Everyone', 'Business', 'June 15, 2018', '3.2.1', '4.1 and up']\n",
      "['Google Ads', 'BUSINESS', '4.3', '29313', '20M', '5,000,000+', 'Free', '0', 'Everyone', 'Business', 'July 30, 2018', '1.12.0', '4.0.3 and up']\n",
      "['Google Ads', 'BUSINESS', '4.3', '29313', '20M', '5,000,000+', 'Free', '0', 'Everyone', 'Business', 'July 30, 2018', '1.12.0', '4.0.3 and up']\n",
      "['Google Ads', 'BUSINESS', '4.3', '29331', '20M', '5,000,000+', 'Free', '0', 'Everyone', 'Business', 'July 30, 2018', '1.12.0', '4.0.3 and up']\n",
      "['Google My Business', 'BUSINESS', '4.4', '70991', 'Varies with device', '5,000,000+', 'Free', '0', 'Everyone', 'Business', 'July 24, 2018', '2.19.0.204537701', '4.4 and up']\n",
      "['Google My Business', 'BUSINESS', '4.4', '70991', 'Varies with device', '5,000,000+', 'Free', '0', 'Everyone', 'Business', 'July 24, 2018', '2.19.0.204537701', '4.4 and up']\n",
      "['Google My Business', 'BUSINESS', '4.4', '70991', 'Varies with device', '5,000,000+', 'Free', '0', 'Everyone', 'Business', 'July 24, 2018', '2.19.0.204537701', '4.4 and up']\n",
      "['Slack', 'BUSINESS', '4.4', '51507', 'Varies with device', '5,000,000+', 'Free', '0', 'Everyone', 'Business', 'August 2, 2018', 'Varies with device', 'Varies with device']\n",
      "['Slack', 'BUSINESS', '4.4', '51507', 'Varies with device', '5,000,000+', 'Free', '0', 'Everyone', 'Business', 'August 2, 2018', 'Varies with device', 'Varies with device']\n",
      "['Slack', 'BUSINESS', '4.4', '51510', 'Varies with device', '5,000,000+', 'Free', '0', 'Everyone', 'Business', 'August 2, 2018', 'Varies with device', 'Varies with device']\n"
     ]
    }
   ],
   "source": [
    "# dup = []\n",
    "for d_app in duplicates_apps[:10]:\n",
    "    for app in app_android[1:]:\n",
    "        name = app[0]\n",
    "        if name == d_app:\n",
    "            print(app)\n",
    "#             dup.append(app)"
   ]
  },
  {
   "cell_type": "markdown",
   "id": "ae34c9f4",
   "metadata": {},
   "source": [
    "Après consultation, nous pouvons remarquer que pour chaque doublon d'application, nous avons le nombre de commentaires (reviews) augmente.\n",
    "Etant donné que l'objectif de notre analyse est de détecter le type d'applications suceptible d'attirer le plus de visiteurs, ce parametre de notre dataset est très important.\n",
    "\n",
    "**_Nous allons donc, pour cette étape de suppression des doublons, garder, pour chaque application, les lignes de données ayants le plus grand nombre de reviews._**"
   ]
  },
  {
   "cell_type": "code",
   "execution_count": 14,
   "id": "a7ad032f",
   "metadata": {},
   "outputs": [],
   "source": [
    "# Créons un dictionnaire ayant le nom d'application unique comme clé et le plus grand nombre de reviews comme valeur\n",
    "reviews_max = {}\n",
    "for app in app_android[1:]:\n",
    "    name = app[0]\n",
    "    n_reviews = float(app[3]) # Nous recuperons le nombre de reviews en le convertissant de string à float\n",
    "    if name in reviews_max and reviews_max[name] < n_reviews:\n",
    "        reviews_max[name] = n_reviews\n",
    "    elif name not in reviews_max:\n",
    "        reviews_max[name] = n_reviews"
   ]
  },
  {
   "cell_type": "code",
   "execution_count": 15,
   "id": "6fe758fd",
   "metadata": {},
   "outputs": [
    {
     "data": {
      "text/plain": [
       "9659"
      ]
     },
     "execution_count": 15,
     "metadata": {},
     "output_type": "execute_result"
    }
   ],
   "source": [
    "len(reviews_max)"
   ]
  },
  {
   "cell_type": "code",
   "execution_count": 16,
   "id": "86418cf6",
   "metadata": {},
   "outputs": [],
   "source": [
    "android_clean = []\n",
    "already_added = []\n",
    "\n",
    "for app in app_android[1:]:\n",
    "    name = app[0]\n",
    "    n_reviews =  float(app[3])\n",
    "    if n_reviews == reviews_max[name] and name not in already_added:\n",
    "        android_clean.append(app)\n",
    "        already_added.append(name)\n",
    "        "
   ]
  },
  {
   "cell_type": "code",
   "execution_count": 17,
   "id": "f4037caf",
   "metadata": {},
   "outputs": [
    {
     "data": {
      "text/plain": [
       "9659"
      ]
     },
     "execution_count": 17,
     "metadata": {},
     "output_type": "execute_result"
    }
   ],
   "source": [
    "len(android_clean)"
   ]
  },
  {
   "cell_type": "code",
   "execution_count": 18,
   "id": "52964b63",
   "metadata": {},
   "outputs": [
    {
     "data": {
      "text/plain": [
       "9659"
      ]
     },
     "execution_count": 18,
     "metadata": {},
     "output_type": "execute_result"
    }
   ],
   "source": [
    "len(already_added)"
   ]
  },
  {
   "cell_type": "markdown",
   "id": "3394c594",
   "metadata": {},
   "source": [
    "* **Supprimons les lignes des applications ne correspondants pas aux applications destinées au publique anglophone**\n",
    "\n",
    "Etant donné que notre cible (les utiliateurs de nos applications) est typiquement anglophone, nous allons concentrer nos analyses sur les application destinées aux utilisateurs anglophone."
   ]
  },
  {
   "cell_type": "code",
   "execution_count": 19,
   "id": "dabdd8fb",
   "metadata": {},
   "outputs": [],
   "source": [
    "def search_ascii_char(string):\n",
    "    nb_not_ascii_char = 0\n",
    "    for s in string:\n",
    "        if ord(s) > 127:\n",
    "            nb_not_ascii_char += 1\n",
    "    if nb_not_ascii_char > 3:\n",
    "        return False\n",
    "    return True"
   ]
  },
  {
   "cell_type": "code",
   "execution_count": 20,
   "id": "a8f37178",
   "metadata": {},
   "outputs": [
    {
     "name": "stdout",
     "output_type": "stream",
     "text": [
      "True\n",
      "False\n",
      "True\n"
     ]
    },
    {
     "data": {
      "text/plain": [
       "True"
      ]
     },
     "execution_count": 20,
     "metadata": {},
     "output_type": "execute_result"
    }
   ],
   "source": [
    "# Testons la fonction\n",
    "print(search_ascii_char(\"Instagram\"))\n",
    "print(search_ascii_char('爱奇艺PPS -《欢乐颂2》电视剧热播'))\n",
    "print(search_ascii_char('Docs To Go™ Free Office Suite'))\n",
    "search_ascii_char('Instachat 😜')"
   ]
  },
  {
   "cell_type": "markdown",
   "id": "6ca3c762",
   "metadata": {},
   "source": [
    "Notre fonction est assez efficace pour repondre à nos critères. \n",
    "\n",
    "Nottoyons maintenant nos datasets."
   ]
  },
  {
   "cell_type": "code",
   "execution_count": 21,
   "id": "0a17e378",
   "metadata": {},
   "outputs": [],
   "source": [
    "def cleaning_english_app(dataset, name_index):\n",
    "    data_clean_final = []\n",
    "    for app in dataset:\n",
    "        name = app[name_index]\n",
    "        if search_ascii_char(name):\n",
    "            data_clean_final.append(app)\n",
    "    return data_clean_final"
   ]
  },
  {
   "cell_type": "code",
   "execution_count": 22,
   "id": "7eadfd5b",
   "metadata": {},
   "outputs": [
    {
     "data": {
      "text/plain": [
       "9614"
      ]
     },
     "execution_count": 22,
     "metadata": {},
     "output_type": "execute_result"
    }
   ],
   "source": [
    "# Google Store dataset\n",
    "android_clean_final_data = cleaning_english_app(android_clean, 0)\n",
    "len(android_clean_final_data)"
   ]
  },
  {
   "cell_type": "code",
   "execution_count": 23,
   "id": "3b15ecd1",
   "metadata": {},
   "outputs": [
    {
     "data": {
      "text/plain": [
       "6183"
      ]
     },
     "execution_count": 23,
     "metadata": {},
     "output_type": "execute_result"
    }
   ],
   "source": [
    "# Apple Store dataset\n",
    "apple_clean_final_data = cleaning_english_app(app_ios[1:], 1)\n",
    "len(apple_clean_final_data)"
   ]
  },
  {
   "cell_type": "markdown",
   "id": "bc7b483d",
   "metadata": {},
   "source": [
    "* **Suppression des applications non gratuites**\n",
    "\n",
    "Comme signifié au debut de ce projet, nous concevons que des applications gratuites à télécharger et installer. Et donc, pour que nos analyses soient plus excellentes et nous aident à prendre de bonnes décisions, nous nous devons de concentrer notre analyse sur, spécifiquement, les applications gratuites."
   ]
  },
  {
   "cell_type": "code",
   "execution_count": 24,
   "id": "42090fc2",
   "metadata": {},
   "outputs": [],
   "source": [
    "def cleaning_free_apps(dataset, price_index):\n",
    "    data_clean_final = []\n",
    "    for app in dataset:\n",
    "        price = app[price_index]\n",
    "        if price == \"0\" or price == \"0.0\":\n",
    "            data_clean_final.append(app)\n",
    "    return data_clean_final"
   ]
  },
  {
   "cell_type": "code",
   "execution_count": 25,
   "id": "8b292011",
   "metadata": {},
   "outputs": [
    {
     "data": {
      "text/plain": [
       "3222"
      ]
     },
     "execution_count": 25,
     "metadata": {},
     "output_type": "execute_result"
    }
   ],
   "source": [
    "Apple_apps = cleaning_free_apps(apple_clean_final_data, 4)\n",
    "len(Apple_apps)"
   ]
  },
  {
   "cell_type": "code",
   "execution_count": 26,
   "id": "e01f37b7",
   "metadata": {},
   "outputs": [
    {
     "data": {
      "text/plain": [
       "8864"
      ]
     },
     "execution_count": 26,
     "metadata": {},
     "output_type": "execute_result"
    }
   ],
   "source": [
    "android_apps = cleaning_free_apps(android_clean_final_data, 7)\n",
    "len(android_apps)"
   ]
  },
  {
   "cell_type": "markdown",
   "id": "718ba8cd",
   "metadata": {},
   "source": [
    "### 3- Etape de l'analyse des données nettoyées"
   ]
  },
  {
   "cell_type": "markdown",
   "id": "80dd85df",
   "metadata": {},
   "source": [
    "Comme mentionné au debut du projet, notre objectif est de déterminer les types d’applications susceptibles d’attirer plus d’utilisateurs, car le nombre de personnes utilisant nos applications affecte nos revenus.\n",
    "\n",
    "Pour minimiser les risques et les frais généraux, notre stratégie de validation d’une idée d’application comporte trois étapes :\n",
    "1. Créez une version Android minimale de l’application et ajoutez-la à Google Play.\n",
    "2. Si l’application a une bonne réponse des utilisateurs, nous la développons davantage.\n",
    "3. Si l’application est rentable après six mois, nous construisons une version iOS de l’application et l’ajoutons à l’App Store.\n",
    "\n",
    "Étant donné que notre objectif final est d’ajouter l’application à la fois sur Google Play et sur l’App Store, nous devons trouver des profils d’applications qui réussissent sur les deux marchés.\n",
    "\n",
    "Nous Commençons l’analyse en déterminant les genres les plus courants pour chaque marché. Pour cela, nous devrons créer des tables de fréquence pour quelques colonnes de nos jeux de données."
   ]
  },
  {
   "cell_type": "markdown",
   "id": "dfb05a76",
   "metadata": {},
   "source": [
    "#### Applications les plus courantes par genre"
   ]
  },
  {
   "cell_type": "markdown",
   "id": "f00d92b7",
   "metadata": {},
   "source": [
    "* Commençons l'analyse en ayant une idée des genres les plus courants pour chaque marché. Pour cela, nous allons créer un tableau de fréquence pour la colonne `prime_genre` de l'ensemble de données App Store et les colonnes `Genres` et `Category` de l'ensemble de données Google Play."
   ]
  },
  {
   "cell_type": "markdown",
   "id": "79e2599c",
   "metadata": {},
   "source": [
    "Nous allons construire deux fonctions que nous pouvons utiliser pour analyser les tables de fréquences :\n",
    "\n",
    "* Une fonction pour générer des tableaux de fréquence qui montrent des pourcentages\n",
    "* Une autre fonction que nous pouvons utiliser pour afficher les pourcentages dans un ordre décroissant"
   ]
  },
  {
   "cell_type": "code",
   "execution_count": 27,
   "id": "6074c97f",
   "metadata": {},
   "outputs": [],
   "source": [
    "def freq_table(dataset, index):\n",
    "    table = {}\n",
    "    total = 0\n",
    "    \n",
    "    for app in dataset:\n",
    "        total += 1\n",
    "        genre = app[index]\n",
    "        if genre in table:\n",
    "            table[genre] += 1\n",
    "        else:\n",
    "            table[genre] = 1\n",
    "    \n",
    "    table_pourcentages = {}\n",
    "    for key in table:\n",
    "        pourcentage = (table[key]/total) * 100\n",
    "        table_pourcentages[key] = pourcentage\n",
    "    \n",
    "    return table_pourcentages\n",
    "\n",
    "def display_table(dataset, index):\n",
    "    table = freq_table(dataset, index)\n",
    "    table_display = []\n",
    "    for key in table:\n",
    "        key_val_tuple = (table[key], key)\n",
    "        table_display.append(key_val_tuple)\n",
    "    \n",
    "    table_sorted = sorted(table_display, reverse = True)\n",
    "    for elt in table_sorted:\n",
    "        print(elt[1], ':', elt[0])"
   ]
  },
  {
   "cell_type": "markdown",
   "id": "27d72ede",
   "metadata": {},
   "source": [
    "Nous commençons par examiner le tableau de fréquence pour la colonne Prime_genre de l'ensemble de données App Store."
   ]
  },
  {
   "cell_type": "code",
   "execution_count": 28,
   "id": "5a6ac7b7",
   "metadata": {
    "scrolled": true
   },
   "outputs": [
    {
     "name": "stdout",
     "output_type": "stream",
     "text": [
      "Games : 58.16263190564867\n",
      "Entertainment : 7.883302296710118\n",
      "Photo & Video : 4.9658597144630665\n",
      "Education : 3.662321539416512\n",
      "Social Networking : 3.2898820608317814\n",
      "Shopping : 2.60707635009311\n",
      "Utilities : 2.5139664804469275\n",
      "Sports : 2.1415270018621975\n",
      "Music : 2.0484171322160147\n",
      "Health & Fitness : 2.0173805090006205\n",
      "Productivity : 1.7380509000620732\n",
      "Lifestyle : 1.5828677839851024\n",
      "News : 1.3345747982619491\n",
      "Travel : 1.2414649286157666\n",
      "Finance : 1.1173184357541899\n",
      "Weather : 0.8690254500310366\n",
      "Food & Drink : 0.8069522036002483\n",
      "Reference : 0.5586592178770949\n",
      "Business : 0.5276225946617008\n",
      "Book : 0.4345127250155183\n",
      "Navigation : 0.186219739292365\n",
      "Medical : 0.186219739292365\n",
      "Catalogs : 0.12414649286157665\n"
     ]
    }
   ],
   "source": [
    "display_table(Apple_apps, -5)"
   ]
  },
  {
   "cell_type": "markdown",
   "id": "346f8a24",
   "metadata": {},
   "source": [
    "On peut voir que parmi les applications anglaises gratuites, plus de la moitié (58,16%) sont des jeux. Les applications de divertissement représentent près de 8 %, suivies des applications photo et vidéo, qui représentent près de 5 %. Seulement 3,66 % des applications sont conçues pour l'éducation, suivies des applications de réseaux sociaux qui représentent 3,29 % des applications de notre ensemble de données.\n",
    "\n",
    "L'impression générale est que l'App Store (du moins la partie contenant des applications anglaises gratuites) est dominé par des applications conçues pour le plaisir (jeux, divertissement, photo et vidéo, réseaux sociaux, sports, musique, etc.), tandis que les applications avec des fonctionnalités pratiques fins (éducation, achats, services publics, productivité, style de vie, etc.) sont plus rares. Cependant, le fait que les applications amusantes soient les plus nombreuses n'implique pas également qu'elles aient aussi le plus grand nombre d'utilisateurs — la demande peut ne pas être la même que l'offre.\n",
    "\n",
    "Continuons en examinant les colonnes `Genres` et `Category` de l'ensemble de données Google Play (deux colonnes qui semblent liées)."
   ]
  },
  {
   "cell_type": "code",
   "execution_count": 29,
   "id": "2b025500",
   "metadata": {},
   "outputs": [
    {
     "name": "stdout",
     "output_type": "stream",
     "text": [
      "FAMILY : 18.907942238267147\n",
      "GAME : 9.724729241877256\n",
      "TOOLS : 8.461191335740072\n",
      "BUSINESS : 4.591606498194946\n",
      "LIFESTYLE : 3.9034296028880866\n",
      "PRODUCTIVITY : 3.892148014440433\n",
      "FINANCE : 3.7003610108303246\n",
      "MEDICAL : 3.531137184115524\n",
      "SPORTS : 3.395758122743682\n",
      "PERSONALIZATION : 3.3167870036101084\n",
      "COMMUNICATION : 3.2378158844765346\n",
      "HEALTH_AND_FITNESS : 3.0798736462093865\n",
      "PHOTOGRAPHY : 2.944494584837545\n",
      "NEWS_AND_MAGAZINES : 2.7978339350180503\n",
      "SOCIAL : 2.6624548736462095\n",
      "TRAVEL_AND_LOCAL : 2.33528880866426\n",
      "SHOPPING : 2.2450361010830324\n",
      "BOOKS_AND_REFERENCE : 2.1435018050541514\n",
      "DATING : 1.861462093862816\n",
      "VIDEO_PLAYERS : 1.7937725631768955\n",
      "MAPS_AND_NAVIGATION : 1.3989169675090252\n",
      "FOOD_AND_DRINK : 1.2409747292418771\n",
      "EDUCATION : 1.1620036101083033\n",
      "ENTERTAINMENT : 0.9589350180505415\n",
      "LIBRARIES_AND_DEMO : 0.9363718411552346\n",
      "AUTO_AND_VEHICLES : 0.9250902527075812\n",
      "HOUSE_AND_HOME : 0.8235559566787004\n",
      "WEATHER : 0.8009927797833934\n",
      "EVENTS : 0.7107400722021661\n",
      "PARENTING : 0.6543321299638989\n",
      "ART_AND_DESIGN : 0.6430505415162455\n",
      "COMICS : 0.6204873646209386\n",
      "BEAUTY : 0.5979241877256317\n"
     ]
    }
   ],
   "source": [
    "display_table(android_apps, 1)"
   ]
  },
  {
   "cell_type": "markdown",
   "id": "98f1cb4e",
   "metadata": {},
   "source": [
    "Le paysage semble sensiblement différent sur Google Play : il n'y a pas beaucoup d'applications conçues pour le plaisir, et il semble que bon nombre d'applications soient conçues à des fins pratiques (famille, outils, entreprise, style de vie, productivité, etc.). Cependant, si nous approfondissons cette question, nous pouvons voir que la catégorie familiale (qui représente près de 19 % des applications) signifie principalement des jeux pour enfants."
   ]
  },
  {
   "cell_type": "markdown",
   "id": "5121c2a5",
   "metadata": {},
   "source": [
    "  Même ainsi, les applications pratiques semblent avoir une meilleure représentation sur Google Play par rapport à l'App Store. Cette image est également confirmée par le tableau des fréquences que nous voyons pour la colonne Genres:"
   ]
  },
  {
   "cell_type": "code",
   "execution_count": 30,
   "id": "e95a5b64",
   "metadata": {},
   "outputs": [
    {
     "name": "stdout",
     "output_type": "stream",
     "text": [
      "Tools : 8.449909747292418\n",
      "Entertainment : 6.069494584837545\n",
      "Education : 5.347472924187725\n",
      "Business : 4.591606498194946\n",
      "Productivity : 3.892148014440433\n",
      "Lifestyle : 3.892148014440433\n",
      "Finance : 3.7003610108303246\n",
      "Medical : 3.531137184115524\n",
      "Sports : 3.463447653429603\n",
      "Personalization : 3.3167870036101084\n",
      "Communication : 3.2378158844765346\n",
      "Action : 3.1024368231046933\n",
      "Health & Fitness : 3.0798736462093865\n",
      "Photography : 2.944494584837545\n",
      "News & Magazines : 2.7978339350180503\n",
      "Social : 2.6624548736462095\n",
      "Travel & Local : 2.3240072202166067\n",
      "Shopping : 2.2450361010830324\n",
      "Books & Reference : 2.1435018050541514\n",
      "Simulation : 2.0419675090252705\n",
      "Dating : 1.861462093862816\n",
      "Arcade : 1.8501805054151623\n",
      "Video Players & Editors : 1.7712093862815883\n",
      "Casual : 1.7599277978339352\n",
      "Maps & Navigation : 1.3989169675090252\n",
      "Food & Drink : 1.2409747292418771\n",
      "Puzzle : 1.128158844765343\n",
      "Racing : 0.9927797833935018\n",
      "Role Playing : 0.9363718411552346\n",
      "Libraries & Demo : 0.9363718411552346\n",
      "Auto & Vehicles : 0.9250902527075812\n",
      "Strategy : 0.9138086642599278\n",
      "House & Home : 0.8235559566787004\n",
      "Weather : 0.8009927797833934\n",
      "Events : 0.7107400722021661\n",
      "Adventure : 0.6768953068592057\n",
      "Comics : 0.6092057761732852\n",
      "Beauty : 0.5979241877256317\n",
      "Art & Design : 0.5979241877256317\n",
      "Parenting : 0.4963898916967509\n",
      "Card : 0.45126353790613716\n",
      "Casino : 0.42870036101083037\n",
      "Trivia : 0.41741877256317694\n",
      "Educational;Education : 0.39485559566787\n",
      "Board : 0.3835740072202166\n",
      "Educational : 0.3722924187725632\n",
      "Education;Education : 0.33844765342960287\n",
      "Word : 0.2594765342960289\n",
      "Casual;Pretend Play : 0.236913357400722\n",
      "Music : 0.2030685920577617\n",
      "Racing;Action & Adventure : 0.16922382671480143\n",
      "Puzzle;Brain Games : 0.16922382671480143\n",
      "Entertainment;Music & Video : 0.16922382671480143\n",
      "Casual;Brain Games : 0.13537906137184114\n",
      "Casual;Action & Adventure : 0.13537906137184114\n",
      "Arcade;Action & Adventure : 0.12409747292418773\n",
      "Action;Action & Adventure : 0.10153429602888085\n",
      "Educational;Pretend Play : 0.09025270758122744\n",
      "Simulation;Action & Adventure : 0.078971119133574\n",
      "Parenting;Education : 0.078971119133574\n",
      "Entertainment;Brain Games : 0.078971119133574\n",
      "Board;Brain Games : 0.078971119133574\n",
      "Parenting;Music & Video : 0.06768953068592057\n",
      "Educational;Brain Games : 0.06768953068592057\n",
      "Casual;Creativity : 0.06768953068592057\n",
      "Art & Design;Creativity : 0.06768953068592057\n",
      "Education;Pretend Play : 0.056407942238267145\n",
      "Role Playing;Pretend Play : 0.04512635379061372\n",
      "Education;Creativity : 0.04512635379061372\n",
      "Role Playing;Action & Adventure : 0.033844765342960284\n",
      "Puzzle;Action & Adventure : 0.033844765342960284\n",
      "Entertainment;Creativity : 0.033844765342960284\n",
      "Entertainment;Action & Adventure : 0.033844765342960284\n",
      "Educational;Creativity : 0.033844765342960284\n",
      "Educational;Action & Adventure : 0.033844765342960284\n",
      "Education;Music & Video : 0.033844765342960284\n",
      "Education;Brain Games : 0.033844765342960284\n",
      "Education;Action & Adventure : 0.033844765342960284\n",
      "Adventure;Action & Adventure : 0.033844765342960284\n",
      "Video Players & Editors;Music & Video : 0.02256317689530686\n",
      "Sports;Action & Adventure : 0.02256317689530686\n",
      "Simulation;Pretend Play : 0.02256317689530686\n",
      "Puzzle;Creativity : 0.02256317689530686\n",
      "Music;Music & Video : 0.02256317689530686\n",
      "Entertainment;Pretend Play : 0.02256317689530686\n",
      "Casual;Education : 0.02256317689530686\n",
      "Board;Action & Adventure : 0.02256317689530686\n",
      "Video Players & Editors;Creativity : 0.01128158844765343\n",
      "Trivia;Education : 0.01128158844765343\n",
      "Travel & Local;Action & Adventure : 0.01128158844765343\n",
      "Tools;Education : 0.01128158844765343\n",
      "Strategy;Education : 0.01128158844765343\n",
      "Strategy;Creativity : 0.01128158844765343\n",
      "Strategy;Action & Adventure : 0.01128158844765343\n",
      "Simulation;Education : 0.01128158844765343\n",
      "Role Playing;Brain Games : 0.01128158844765343\n",
      "Racing;Pretend Play : 0.01128158844765343\n",
      "Puzzle;Education : 0.01128158844765343\n",
      "Parenting;Brain Games : 0.01128158844765343\n",
      "Music & Audio;Music & Video : 0.01128158844765343\n",
      "Lifestyle;Pretend Play : 0.01128158844765343\n",
      "Lifestyle;Education : 0.01128158844765343\n",
      "Health & Fitness;Education : 0.01128158844765343\n",
      "Health & Fitness;Action & Adventure : 0.01128158844765343\n",
      "Entertainment;Education : 0.01128158844765343\n",
      "Communication;Creativity : 0.01128158844765343\n",
      "Comics;Creativity : 0.01128158844765343\n",
      "Casual;Music & Video : 0.01128158844765343\n",
      "Card;Action & Adventure : 0.01128158844765343\n",
      "Books & Reference;Education : 0.01128158844765343\n",
      "Art & Design;Pretend Play : 0.01128158844765343\n",
      "Art & Design;Action & Adventure : 0.01128158844765343\n",
      "Arcade;Pretend Play : 0.01128158844765343\n",
      "Adventure;Education : 0.01128158844765343\n"
     ]
    }
   ],
   "source": [
    "display_table(android_apps, -4)"
   ]
  },
  {
   "cell_type": "markdown",
   "id": "1239d81d",
   "metadata": {},
   "source": [
    "La différence entre les colonnes Genres et Catégorie n'est pas claire comme du cristal, mais une chose que nous pouvons remarquer est que la colonne Genres est beaucoup plus granulaire (elle a plus de catégories). Nous recherchons uniquement une vue d'ensemble pour le moment, nous ne travaillerons donc qu'avec la colonne Catégorie à l'avenir.\n",
    "\n",
    "Jusqu'à présent, nous avons constaté que l'App Store est dominé par des applications conçues pour le plaisir, tandis que Google Play présente un paysage plus équilibré d'applications pratiques et amusantes. Nous aimerions maintenant avoir une idée du type d'applications qui ont le plus d'utilisateurs."
   ]
  },
  {
   "cell_type": "markdown",
   "id": "cff4dfae",
   "metadata": {},
   "source": [
    "### _Applications les plus populaires par genre sur l'App Store_\n",
    "\n",
    "Une façon de savoir quels genres sont les plus populaires (qui comptent le plus d'utilisateurs) consiste à calculer le nombre moyen d'installations pour chaque genre d'application. Pour l'ensemble de données Google Play, nous pouvons trouver ces informations dans la colonne Installations, mais pour l'ensemble de données App Store, ces informations sont manquantes. Comme solution de contournement, nous prendrons le nombre total d'évaluations d'utilisateurs, que nous pouvons trouver dans l'application rating_count_tot.\n",
    "\n",
    "Ci-dessous, nous calculons le nombre moyen de notes d'utilisateurs par genre d'application sur l'App Store :"
   ]
  },
  {
   "cell_type": "code",
   "execution_count": 31,
   "id": "00df483d",
   "metadata": {},
   "outputs": [],
   "source": [
    "uniques_genre_apps_store = freq_table(Apple_apps, -5)\n",
    "avg_rating_by_genre_apps_store = []\n",
    "for genre in uniques_genre_apps_store:\n",
    "    total = 0\n",
    "    len_genre = 0\n",
    "    for app in Apple_apps:\n",
    "            genre_apps = app[-5]\n",
    "            if genre_apps == genre:\n",
    "                n_rating = float(app[5])\n",
    "                total += n_rating\n",
    "                len_genre += 1\n",
    "    avg_n_ratings = total/len_genre\n",
    "#     key_val_tuple = (avg_n_ratings, genre)\n",
    "    avg_rating_by_genre_apps_store.append((avg_n_ratings, genre))\n",
    "    \n",
    "avg_ratings_apps_store_sort = [(app[1], app[0]) for app in sorted(avg_rating_by_genre_apps_store, reverse=True)]"
   ]
  },
  {
   "cell_type": "code",
   "execution_count": 32,
   "id": "931d2bdc",
   "metadata": {},
   "outputs": [
    {
     "data": {
      "text/plain": [
       "[('Navigation', 86090.33333333333),\n",
       " ('Reference', 74942.11111111111),\n",
       " ('Social Networking', 71548.34905660378),\n",
       " ('Music', 57326.530303030304),\n",
       " ('Weather', 52279.892857142855),\n",
       " ('Book', 39758.5),\n",
       " ('Food & Drink', 33333.92307692308),\n",
       " ('Finance', 31467.944444444445),\n",
       " ('Photo & Video', 28441.54375),\n",
       " ('Travel', 28243.8),\n",
       " ('Shopping', 26919.690476190477),\n",
       " ('Health & Fitness', 23298.015384615384),\n",
       " ('Sports', 23008.898550724636),\n",
       " ('Games', 22788.6696905016),\n",
       " ('News', 21248.023255813954),\n",
       " ('Productivity', 21028.410714285714),\n",
       " ('Utilities', 18684.456790123455),\n",
       " ('Lifestyle', 16485.764705882353),\n",
       " ('Entertainment', 14029.830708661417),\n",
       " ('Business', 7491.117647058823),\n",
       " ('Education', 7003.983050847458),\n",
       " ('Catalogs', 4004.0),\n",
       " ('Medical', 612.0)]"
      ]
     },
     "execution_count": 32,
     "metadata": {},
     "output_type": "execute_result"
    }
   ],
   "source": [
    "avg_ratings_apps_store_sort"
   ]
  },
  {
   "cell_type": "markdown",
   "id": "e0ef49a7",
   "metadata": {},
   "source": [
    "De cette analyse, nous pouvons constater que les applications de types **Navigation** sont les plus utilisées sur le marché de l'Apple Store.\n",
    "\n",
    "Toutefois, nous pouvons creuser un peu plus en essayant de voir quelle est la tendance dans ce genre."
   ]
  },
  {
   "cell_type": "code",
   "execution_count": 34,
   "id": "bcee2c6e",
   "metadata": {},
   "outputs": [
    {
     "name": "stdout",
     "output_type": "stream",
     "text": [
      "Waze - GPS Navigation, Maps & Real-time Traffic  :  345046\n",
      "Google Maps - Navigation & Transit  :  154911\n",
      "Geocaching®  :  12811\n",
      "CoPilot GPS – Car Navigation & Offline Maps  :  3582\n",
      "ImmobilienScout24: Real Estate Search in Germany  :  187\n",
      "Railway Route Search  :  5\n"
     ]
    }
   ],
   "source": [
    "# Parcourons le genre \"Navigation\" pour en apprendre plus.\n",
    "for app in Apple_apps:\n",
    "    if app[-5] == \"Navigation\":\n",
    "        print(app[1], \" : \", app[5])"
   ]
  },
  {
   "cell_type": "markdown",
   "id": "470013b8",
   "metadata": {},
   "source": [
    "Nous constatons que ce genre, bien qu'il semble le meilleur, il est dominé par deux (02) applications majeur; ce qui fausse un peu notre estimation.\n",
    "\n",
    "Essayons de creuser alors le **Top 3**"
   ]
  },
  {
   "cell_type": "code",
   "execution_count": 36,
   "id": "8a696533",
   "metadata": {},
   "outputs": [
    {
     "name": "stdout",
     "output_type": "stream",
     "text": [
      "Bible  :  985920\n",
      "Dictionary.com Dictionary & Thesaurus  :  200047\n",
      "Dictionary.com Dictionary & Thesaurus for iPad  :  54175\n",
      "Google Translate  :  26786\n",
      "Muslim Pro: Ramadan 2017 Prayer Times, Azan, Quran  :  18418\n",
      "New Furniture Mods - Pocket Wiki & Game Tools for Minecraft PC Edition  :  17588\n",
      "Merriam-Webster Dictionary  :  16849\n",
      "Night Sky  :  12122\n",
      "City Maps for Minecraft PE - The Best Maps for Minecraft Pocket Edition (MCPE)  :  8535\n",
      "LUCKY BLOCK MOD ™ for Minecraft PC Edition - The Best Pocket Wiki & Mods Installer Tools  :  4693\n",
      "GUNS MODS for Minecraft PC Edition - Mods Tools  :  1497\n",
      "Guides for Pokémon GO - Pokemon GO News and Cheats  :  826\n",
      "WWDC  :  762\n",
      "Horror Maps for Minecraft PE - Download The Scariest Maps for Minecraft Pocket Edition (MCPE) Free  :  718\n",
      "VPN Express  :  14\n",
      "Real Bike Traffic Rider Virtual Reality Glasses  :  8\n",
      "教えて!goo  :  0\n",
      "Jishokun-Japanese English Dictionary & Translator  :  0\n"
     ]
    }
   ],
   "source": [
    "# Parcourons le genre \"Reference\" pour en apprendre plus.\n",
    "for app in Apple_apps:\n",
    "    if app[-5] == \"Reference\":\n",
    "        print(app[1], \" : \", app[5])"
   ]
  },
  {
   "cell_type": "code",
   "execution_count": 37,
   "id": "6ce56434",
   "metadata": {},
   "outputs": [
    {
     "name": "stdout",
     "output_type": "stream",
     "text": [
      "Facebook  :  2974676\n",
      "Pinterest  :  1061624\n",
      "Skype for iPhone  :  373519\n",
      "Messenger  :  351466\n",
      "Tumblr  :  334293\n",
      "WhatsApp Messenger  :  287589\n",
      "Kik  :  260965\n",
      "ooVoo – Free Video Call, Text and Voice  :  177501\n",
      "TextNow - Unlimited Text + Calls  :  164963\n",
      "Viber Messenger – Text & Call  :  164249\n",
      "Followers - Social Analytics For Instagram  :  112778\n",
      "MeetMe - Chat and Meet New People  :  97072\n",
      "We Heart It - Fashion, wallpapers, quotes, tattoos  :  90414\n",
      "InsTrack for Instagram - Analytics Plus More  :  85535\n",
      "Tango - Free Video Call, Voice and Chat  :  75412\n",
      "LinkedIn  :  71856\n",
      "Match™ - #1 Dating App.  :  60659\n",
      "Skype for iPad  :  60163\n",
      "POF - Best Dating App for Conversations  :  52642\n",
      "Timehop  :  49510\n",
      "Find My Family, Friends & iPhone - Life360 Locator  :  43877\n",
      "Whisper - Share, Express, Meet  :  39819\n",
      "Hangouts  :  36404\n",
      "LINE PLAY - Your Avatar World  :  34677\n",
      "WeChat  :  34584\n",
      "Badoo - Meet New People, Chat, Socialize.  :  34428\n",
      "Followers + for Instagram - Follower Analytics  :  28633\n",
      "GroupMe  :  28260\n",
      "Marco Polo Video Walkie Talkie  :  27662\n",
      "Miitomo  :  23965\n",
      "SimSimi  :  23530\n",
      "Grindr - Gay and same sex guys chat, meet and date  :  23201\n",
      "Wishbone - Compare Anything  :  20649\n",
      "imo video calls and chat  :  18841\n",
      "After School - Funny Anonymous School News  :  18482\n",
      "Quick Reposter - Repost, Regram and Reshare Photos  :  17694\n",
      "Weibo HD  :  16772\n",
      "Repost for Instagram  :  15185\n",
      "Live.me – Live Video Chat & Make Friends Nearby  :  14724\n",
      "Nextdoor  :  14402\n",
      "Followers Analytics for Instagram - InstaReport  :  13914\n",
      "YouNow: Live Stream Video Chat  :  12079\n",
      "FollowMeter for Instagram - Followers Tracking  :  11976\n",
      "LINE  :  11437\n",
      "eHarmony™ Dating App - Meet Singles  :  11124\n",
      "Discord - Chat for Gamers  :  9152\n",
      "QQ  :  9109\n",
      "Telegram Messenger  :  7573\n",
      "Weibo  :  7265\n",
      "Periscope - Live Video Streaming Around the World  :  6062\n",
      "Chat for Whatsapp - iPad Version  :  5060\n",
      "QQ HD  :  5058\n",
      "Followers Analysis Tool For Instagram App Free  :  4253\n",
      "live.ly - live video streaming  :  4145\n",
      "Houseparty - Group Video Chat  :  3991\n",
      "SOMA Messenger  :  3232\n",
      "Monkey  :  3060\n",
      "Down To Lunch  :  2535\n",
      "Flinch - Video Chat Staring Contest  :  2134\n",
      "Highrise - Your Avatar Community  :  2011\n",
      "LOVOO - Dating Chat  :  1985\n",
      "PlayStation®Messages  :  1918\n",
      "BOO! - Video chat camera with filters & stickers  :  1805\n",
      "Qzone  :  1649\n",
      "Chatous - Chat with new people  :  1609\n",
      "Kiwi - Q&A  :  1538\n",
      "GhostCodes - a discovery app for Snapchat  :  1313\n",
      "Jodel  :  1193\n",
      "FireChat  :  1037\n",
      "Google Duo - simple video calling  :  1033\n",
      "Fiesta by Tango - Chat & Meet New People  :  885\n",
      "Google Allo — smart messaging  :  862\n",
      "Peach — share vividly  :  727\n",
      "Hey! VINA - Where Women Meet New Friends  :  719\n",
      "Battlefield™ Companion  :  689\n",
      "All Devices for WhatsApp - Messenger for iPad  :  682\n",
      "Chat for Pokemon Go - GoChat  :  500\n",
      "IAmNaughty – Dating App to Meet New People Online  :  463\n",
      "Qzone HD  :  458\n",
      "Zenly - Locate your friends in realtime  :  427\n",
      "League of Legends Friends  :  420\n",
      "豆瓣  :  407\n",
      "Candid - Speak Your Mind Freely  :  398\n",
      "知乎  :  397\n",
      "Selfeo  :  366\n",
      "Fake-A-Location Free ™  :  354\n",
      "Popcorn Buzz - Free Group Calls  :  281\n",
      "Fam — Group video calling for iMessage  :  279\n",
      "QQ International  :  274\n",
      "Ameba  :  269\n",
      "SoundCloud Pulse: for creators  :  240\n",
      "Tantan  :  235\n",
      "Cougar Dating & Life Style App for Mature Women  :  213\n",
      "Rawr Messenger - Dab your chat  :  180\n",
      "WhenToPost: Best Time to Post Photos for Instagram  :  158\n",
      "Inke—Broadcast an amazing life  :  147\n",
      "Mustknow - anonymous video Q&A  :  53\n",
      "CTFxCmoji  :  39\n",
      "Lobi  :  36\n",
      "Chain: Collaborate On MyVideo Story/Group Video  :  35\n",
      "botman - Real time video chat  :  7\n",
      "BestieBox  :  0\n",
      "MATCH ON LINE chat  :  0\n",
      "niconico ch  :  0\n",
      "LINE BLOG  :  0\n",
      "bit-tube - Live Stream Video Chat  :  0\n"
     ]
    }
   ],
   "source": [
    "# Parcourons le genre \"Reseaux sociaux\" pour en apprendre plus.\n",
    "for app in Apple_apps:\n",
    "    if app[-5] == \"Social Networking\":\n",
    "        print(app[1], \" : \", app[5])"
   ]
  },
  {
   "cell_type": "markdown",
   "id": "f9edf2f3",
   "metadata": {},
   "source": [
    "Le constat est fort; chacun des genres du top 3 est dominné par deux ou trois applications qui faussent la moyenne. \n",
    "\n",
    "De plus, à voir de plus près : \n",
    "- le marché de applications de type \"Social Networking\" semble saturé \n",
    "- celui de type \"Navigation\" semble promettre mais est déja dominé par deux géants et s'y aventurer serai peine perdu.\n",
    "\n",
    "La solution, pour le marché de Apples Apps, serait de s'intéressé au genre \"Reference\" et plus précisement les livres.\n",
    "\n",
    "Nous proposons donc à l'équipe de developpeurs de créer une application qui donne accès un livre populaire et y ajouter des fonctionalités qui attirerait les adeptes d'autres types de contenue comme :\n",
    "* Dictionnaire : possibilité de pouvoir, sans quitter l'app, trouver la definition des mots difficiles\n",
    "* Chat : possibilité de discuter sur une thématique autour du livre en question\n",
    "* Multilingue\n",
    "* Etc ."
   ]
  },
  {
   "cell_type": "markdown",
   "id": "b00d59c6",
   "metadata": {},
   "source": [
    "### _Applications les plus populaires par genre sur Google Play_"
   ]
  },
  {
   "cell_type": "markdown",
   "id": "a9f04ffb",
   "metadata": {},
   "source": [
    "Dans notre Dataset des application sur Google PlayStore, nous avons une colone \"Installs\" qui nous donne le notre d'installations de chaque application. Nous allons donc l'utiliser pour avoir une image claire de la popularité du genre."
   ]
  },
  {
   "cell_type": "code",
   "execution_count": 38,
   "id": "78dca04b",
   "metadata": {},
   "outputs": [
    {
     "name": "stdout",
     "output_type": "stream",
     "text": [
      "1,000,000+ : 15.726534296028879\n",
      "100,000+ : 11.552346570397113\n",
      "10,000,000+ : 10.548285198555957\n",
      "10,000+ : 10.198555956678701\n",
      "1,000+ : 8.393501805054152\n",
      "100+ : 6.915613718411552\n",
      "5,000,000+ : 6.825361010830325\n",
      "500,000+ : 5.561823104693141\n",
      "50,000+ : 4.7721119133574\n",
      "5,000+ : 4.512635379061372\n",
      "10+ : 3.5424187725631766\n",
      "500+ : 3.2490974729241873\n",
      "50,000,000+ : 2.3014440433213\n",
      "100,000,000+ : 2.1322202166064983\n",
      "50+ : 1.917870036101083\n",
      "5+ : 0.78971119133574\n",
      "1+ : 0.5076714801444043\n",
      "500,000,000+ : 0.2707581227436823\n",
      "1,000,000,000+ : 0.22563176895306858\n",
      "0+ : 0.04512635379061372\n",
      "0 : 0.01128158844765343\n"
     ]
    }
   ],
   "source": [
    "display_table(android_apps, 5)"
   ]
  },
  {
   "cell_type": "code",
   "execution_count": 51,
   "id": "d78166d4",
   "metadata": {},
   "outputs": [
    {
     "name": "stdout",
     "output_type": "stream",
     "text": [
      "Nous avons 33 catégories d'application\n"
     ]
    },
    {
     "data": {
      "text/plain": [
       "['ART_AND_DESIGN',\n",
       " 'AUTO_AND_VEHICLES',\n",
       " 'BEAUTY',\n",
       " 'BOOKS_AND_REFERENCE',\n",
       " 'BUSINESS',\n",
       " 'COMICS',\n",
       " 'COMMUNICATION',\n",
       " 'DATING',\n",
       " 'EDUCATION',\n",
       " 'ENTERTAINMENT',\n",
       " 'EVENTS',\n",
       " 'FINANCE',\n",
       " 'FOOD_AND_DRINK',\n",
       " 'HEALTH_AND_FITNESS',\n",
       " 'HOUSE_AND_HOME',\n",
       " 'LIBRARIES_AND_DEMO',\n",
       " 'LIFESTYLE',\n",
       " 'GAME',\n",
       " 'FAMILY',\n",
       " 'MEDICAL',\n",
       " 'SOCIAL',\n",
       " 'SHOPPING',\n",
       " 'PHOTOGRAPHY',\n",
       " 'SPORTS',\n",
       " 'TRAVEL_AND_LOCAL',\n",
       " 'TOOLS',\n",
       " 'PERSONALIZATION',\n",
       " 'PRODUCTIVITY',\n",
       " 'PARENTING',\n",
       " 'WEATHER',\n",
       " 'VIDEO_PLAYERS',\n",
       " 'NEWS_AND_MAGAZINES',\n",
       " 'MAPS_AND_NAVIGATION']"
      ]
     },
     "execution_count": 51,
     "metadata": {},
     "output_type": "execute_result"
    }
   ],
   "source": [
    "# Les catégories uniques d'application\n",
    "android_categories = freq_table(android_apps, 1)\n",
    "android_categories = [category for category in android_categories]\n",
    "print(f\"Nous avons {len(android_categories)} catégories d'application\")\n",
    "android_categories"
   ]
  },
  {
   "cell_type": "code",
   "execution_count": 60,
   "id": "43f7a318",
   "metadata": {},
   "outputs": [],
   "source": [
    "avg_n_installs = []\n",
    "for category in android_categories:\n",
    "    total = 0\n",
    "    len_category = 0\n",
    "    for app in android_apps:\n",
    "            category_app = app[1]\n",
    "            if category_app == category:\n",
    "                n_installs = app[5]\n",
    "                n_installs = n_installs.replace(\",\", \"\")\n",
    "                n_installs = n_installs.replace(\"+\", \"\")\n",
    "                n_installs = float(n_installs)\n",
    "                total += n_installs\n",
    "                len_category += 1\n",
    "    avg_n_install = total/len_category\n",
    "    avg_n_installs.append((avg_n_install, category))\n",
    "    \n",
    "avg_n_installs = [(app[1], app[0]) for app in sorted(avg_n_installs, reverse=True)]"
   ]
  },
  {
   "cell_type": "code",
   "execution_count": 61,
   "id": "eb574689",
   "metadata": {},
   "outputs": [
    {
     "data": {
      "text/plain": [
       "[('COMMUNICATION', 38456119.167247385),\n",
       " ('VIDEO_PLAYERS', 24727872.452830188),\n",
       " ('SOCIAL', 23253652.127118643),\n",
       " ('PHOTOGRAPHY', 17840110.40229885),\n",
       " ('PRODUCTIVITY', 16787331.344927534),\n",
       " ('GAME', 15588015.603248259),\n",
       " ('TRAVEL_AND_LOCAL', 13984077.710144928),\n",
       " ('ENTERTAINMENT', 11640705.88235294),\n",
       " ('TOOLS', 10801391.298666667),\n",
       " ('NEWS_AND_MAGAZINES', 9549178.467741935),\n",
       " ('BOOKS_AND_REFERENCE', 8767811.894736841),\n",
       " ('SHOPPING', 7036877.311557789),\n",
       " ('PERSONALIZATION', 5201482.6122448975),\n",
       " ('WEATHER', 5074486.197183099),\n",
       " ('HEALTH_AND_FITNESS', 4188821.9853479853),\n",
       " ('MAPS_AND_NAVIGATION', 4056941.7741935486),\n",
       " ('FAMILY', 3695641.8198090694),\n",
       " ('SPORTS', 3638640.1428571427),\n",
       " ('ART_AND_DESIGN', 1986335.0877192982),\n",
       " ('FOOD_AND_DRINK', 1924897.7363636363),\n",
       " ('EDUCATION', 1833495.145631068),\n",
       " ('BUSINESS', 1712290.1474201474),\n",
       " ('LIFESTYLE', 1437816.2687861272),\n",
       " ('FINANCE', 1387692.475609756),\n",
       " ('HOUSE_AND_HOME', 1331540.5616438356),\n",
       " ('DATING', 854028.8303030303),\n",
       " ('COMICS', 817657.2727272727),\n",
       " ('AUTO_AND_VEHICLES', 647317.8170731707),\n",
       " ('LIBRARIES_AND_DEMO', 638503.734939759),\n",
       " ('PARENTING', 542603.6206896552),\n",
       " ('BEAUTY', 513151.88679245283),\n",
       " ('EVENTS', 253542.22222222222),\n",
       " ('MEDICAL', 120550.61980830671)]"
      ]
     },
     "execution_count": 61,
     "metadata": {},
     "output_type": "execute_result"
    }
   ],
   "source": [
    "avg_n_installs"
   ]
  },
  {
   "cell_type": "markdown",
   "id": "07881cc2",
   "metadata": {},
   "source": [
    "Nous pouvons, sans suprise, constater que les applications de type \"Communication\" sont les plus télécharger. Mais, étant donnée que ce profil d'applis est constitué de plusieurs applis, essayons d'en apprendre plus en examiner ce profil."
   ]
  },
  {
   "cell_type": "code",
   "execution_count": 63,
   "id": "dc51d3ec",
   "metadata": {},
   "outputs": [
    {
     "name": "stdout",
     "output_type": "stream",
     "text": [
      "WhatsApp Messenger  :  1,000,000,000+\n",
      "Messenger for SMS  :  10,000,000+\n",
      "My Tele2  :  5,000,000+\n",
      "imo beta free calls and text  :  100,000,000+\n",
      "Contacts  :  50,000,000+\n",
      "Call Free – Free Call  :  5,000,000+\n",
      "Web Browser & Explorer  :  5,000,000+\n",
      "Browser 4G  :  10,000,000+\n",
      "MegaFon Dashboard  :  10,000,000+\n",
      "ZenUI Dialer & Contacts  :  10,000,000+\n",
      "Cricket Visual Voicemail  :  10,000,000+\n",
      "TracFone My Account  :  1,000,000+\n",
      "Xperia Link™  :  10,000,000+\n",
      "TouchPal Keyboard - Fun Emoji & Android Keyboard  :  10,000,000+\n",
      "Skype Lite - Free Video Call & Chat  :  5,000,000+\n",
      "My magenta  :  1,000,000+\n",
      "Android Messages  :  100,000,000+\n",
      "Google Duo - High Quality Video Calls  :  500,000,000+\n",
      "Seznam.cz  :  1,000,000+\n",
      "Antillean Gold Telegram (original version)  :  100,000+\n",
      "AT&T Visual Voicemail  :  10,000,000+\n",
      "GMX Mail  :  10,000,000+\n",
      "Omlet Chat  :  10,000,000+\n",
      "My Vodacom SA  :  5,000,000+\n",
      "Microsoft Edge  :  5,000,000+\n",
      "Messenger – Text and Video Chat for Free  :  1,000,000,000+\n",
      "imo free video calls and chat  :  500,000,000+\n",
      "Calls & Text by Mo+  :  5,000,000+\n",
      "free video calls and chat  :  50,000,000+\n",
      "Skype - free IM & video calls  :  1,000,000,000+\n",
      "Who  :  100,000,000+\n",
      "GO SMS Pro - Messenger, Free Themes, Emoji  :  100,000,000+\n",
      "Messaging+ SMS, MMS Free  :  1,000,000+\n",
      "chomp SMS  :  10,000,000+\n",
      "Glide - Video Chat Messenger  :  10,000,000+\n",
      "Text SMS  :  10,000,000+\n",
      "Talkray - Free Calls & Texts  :  10,000,000+\n",
      "LINE: Free Calls & Messages  :  500,000,000+\n",
      "GroupMe  :  10,000,000+\n",
      "mysms SMS Text Messaging Sync  :  1,000,000+\n",
      "2ndLine - Second Phone Number  :  1,000,000+\n",
      "Google Chrome: Fast & Secure  :  1,000,000,000+\n",
      "Firefox Browser fast & private  :  100,000,000+\n",
      "Ninesky Browser  :  1,000,000+\n",
      "Dolphin Browser - Fast, Private & Adblock🐬  :  50,000,000+\n",
      "UC Browser - Fast Download Private & Secure  :  500,000,000+\n",
      "Ghostery Privacy Browser  :  1,000,000+\n",
      "InBrowser - Incognito Browsing  :  1,000,000+\n",
      "Lightning Web Browser  :  500,000+\n",
      "Web Browser  :  500,000+\n",
      "Contacts+  :  10,000,000+\n",
      "ExDialer - Dialer & Contacts  :  10,000,000+\n",
      "PHONE for Google Voice & GTalk  :  1,000,000+\n",
      "Safest Call Blocker  :  1,000,000+\n",
      "Full Screen Caller ID  :  5,000,000+\n",
      "Hiya - Caller ID & Block  :  10,000,000+\n",
      "Mr. Number-Block calls & spam  :  10,000,000+\n",
      "Should I Answer?  :  1,000,000+\n",
      "RocketDial Dialer & Contacts  :  1,000,000+\n",
      "CIA - Caller ID & Call Blocker  :  5,000,000+\n",
      "Calls Blacklist - Call Blocker  :  10,000,000+\n",
      "Call Control - Call Blocker  :  5,000,000+\n",
      "True Contact - Real Caller ID  :  1,000,000+\n",
      "Video Caller Id  :  1,000,000+\n",
      "Sync.ME – Caller ID & Block  :  5,000,000+\n",
      "Burner - Free Phone Number  :  1,000,000+\n",
      "Caller ID +  :  1,000,000+\n",
      "Gmail  :  1,000,000,000+\n",
      "K-9 Mail  :  5,000,000+\n",
      "myMail – Email for Hotmail, Gmail and Outlook Mail  :  10,000,000+\n",
      "Email TypeApp - Mail App  :  1,000,000+\n",
      "All Email Providers  :  1,000,000+\n",
      "Newton Mail - Email App for Gmail, Outlook, IMAP  :  1,000,000+\n",
      "GO Notifier  :  10,000,000+\n",
      "Mail.Ru - Email App  :  50,000,000+\n",
      "Mail1Click - Secure Mail  :  10,000+\n",
      "Daum Mail - Next Mail  :  5,000,000+\n",
      "mail.com mail  :  1,000,000+\n",
      "SolMail - All-in-One email app  :  500,000+\n",
      "Hangouts  :  1,000,000,000+\n",
      "Vonage Mobile® Call Video Text  :  1,000,000+\n",
      "JusTalk - Free Video Calls and Fun Video Chat  :  5,000,000+\n",
      "Azar  :  50,000,000+\n",
      "LokLok: Draw on a Lock Screen  :  500,000+\n",
      "Discord - Chat for Gamers  :  10,000,000+\n",
      "Messenger Lite: Free Calls & Messages  :  100,000,000+\n",
      "AntennaPict β  :  1,000,000+\n",
      "Talkatone: Free Texts, Calls & Phone Number  :  10,000,000+\n",
      "Kik  :  100,000,000+\n",
      "K-@ Mail - Email App  :  100,000+\n",
      "KakaoTalk: Free Calls & Text  :  100,000,000+\n",
      "K-9 Material (unofficial)  :  5,000+\n",
      "M star Dialer  :  100,000+\n",
      "Free WiFi Connect  :  10,000,000+\n",
      "m:go BiH  :  10,000+\n",
      "N-Com Wizard  :  50,000+\n",
      "Opera Mini - fast web browser  :  100,000,000+\n",
      "Opera Browser: Fast and Secure  :  100,000,000+\n",
      "Opera Mini browser beta  :  10,000,000+\n",
      "Psiphon Pro - The Internet Freedom VPN  :  10,000,000+\n",
      "ICQ — Video Calls & Chat Messenger  :  10,000,000+\n",
      "Telegram  :  100,000,000+\n",
      "AT&T Messages for Tablet  :  1,000,000+\n",
      "T-Mobile DIGITS  :  100,000+\n",
      "Truecaller: Caller ID, SMS spam blocking & Dialer  :  100,000,000+\n",
      "Portable Wi-Fi hotspot  :  10,000,000+\n",
      "AT&T Call Protect  :  5,000,000+\n",
      "U - Webinars, Meetings & Messenger  :  500,000+\n",
      "UC Browser Mini -Tiny Fast Private & Secure  :  100,000,000+\n",
      "/u/app  :  10,000+\n",
      "[verify-U] VideoIdent  :  10,000+\n",
      "Viber Messenger  :  500,000,000+\n",
      "WeChat  :  100,000,000+\n",
      "WhatsApp Business  :  10,000,000+\n",
      "WhatsCall Free Global Phone Call App & Cheap Calls  :  10,000,000+\n",
      "X Browser  :  50,000+\n",
      "Yahoo Mail – Stay Organized  :  100,000,000+\n",
      "Free Adblocker Browser - Adblock & Popup Blocker  :  10,000,000+\n",
      "Adblock Browser for Android  :  10,000,000+\n",
      "CM Browser - Ad Blocker , Fast Download , Privacy  :  50,000,000+\n",
      "Adblock Plus for Samsung Internet - Browse safe.  :  1,000,000+\n",
      "Ad Blocker Turbo - Adblocker Browser  :  10,000+\n",
      "Brave Browser: Fast AdBlocker  :  5,000,000+\n",
      "AG Contacts, Lite edition  :  5,000+\n",
      "Oklahoma Ag Co-op Council  :  10+\n",
      "Bee'ah Employee App  :  100+\n",
      "tournaments and more.aj.2  :  100+\n",
      "Aj.Petra  :  100+\n",
      "AK Phone  :  5,000+\n",
      "PlacarTv Futebol Ao Vivo  :  100,000+\n",
      "WiFi Access Point (hotspot)  :  100,000+\n",
      "Access Point Names  :  10,000+\n",
      "Puffin Web Browser  :  10,000,000+\n",
      "ClanHQ  :  10,000+\n",
      "Ear Agent: Super Hearing  :  5,000,000+\n",
      "Google Voice  :  10,000,000+\n",
      "Google Allo  :  10,000,000+\n",
      "AU Call Blocker - Block Unwanted Calls Texts 2018  :  1,000+\n",
      "Baby Monitor AV  :  100,000+\n",
      "AV Phone  :  1,000+\n",
      "AW - free video calls and chat  :  1,000,000+\n",
      "Katalogen.ax  :  100+\n",
      "AZ Browser. Private & Download  :  100,000+\n",
      "BA SALES  :  1+\n",
      "BD Data Plan (3G & 4G)  :  500,000+\n",
      "BD Internet Packages (Updated)  :  50,000+\n",
      "BD Dialer  :  10,000+\n",
      "BD Live Call  :  5,000+\n",
      "Best Browser BD social networking  :  10+\n",
      "Traffic signs BD  :  500+\n",
      "BF Browser by Betfilter - Stop Gambling Today!  :  10,000+\n",
      "My BF App  :  50,000+\n",
      "BH Mail  :  1,000+\n",
      "Zalo – Video Call  :  50,000,000+\n",
      "BJ - Confidential  :  10+\n",
      "BK Chat  :  1,000+\n",
      "Of the wall Arapaho bk  :  5+\n",
      "AC-BL  :  50+\n",
      "BBM - Free Calls & Messages  :  100,000,000+\n",
      "DMR BrandMeister Tool  :  10,000+\n",
      "BBMoji - Your personalized BBM Stickers  :  1,000,000+\n",
      "BN MALLORCA Radio  :  1,000+\n",
      "BQ Partners  :  1,000+\n",
      "BS-Mobile  :  50+\n",
      "ATC Unico BS  :  500+\n",
      "BT One Voice mobile access  :  5,000+\n",
      "BT Messenger  :  50,000+\n",
      "BT One Phone Mobile App  :  10,000+\n",
      "SW-100.tch by Callstel  :  1,000,000+\n",
      "BT MeetMe with Dolby Voice  :  100,000+\n",
      "Bluetooth Auto Connect  :  5,000,000+\n",
      "AudioBT: BT audio GPS/SMS/Text  :  50,000+\n",
      "BV  :  100+\n",
      "Feel Performer  :  10,000+\n",
      "Tiny Call Confirm  :  1,000,000+\n",
      "CB Radio Chat - for friends!  :  1,000,000+\n",
      "CB On Mobile  :  100,000+\n",
      "Virtual Walkie Talkie  :  1,000,000+\n",
      "Channel 19  :  100,000+\n",
      "Cb browser  :  50+\n",
      "CF Chat: Connecting Friends  :  100+\n",
      "retteMi.ch  :  5,000+\n",
      "Chrome Dev  :  5,000,000+\n",
      "CJ Browser - Fast & Private  :  100+\n",
      "CJ DVD Rentals  :  100+\n",
      "CK Call NEW  :  10+\n",
      "CM Transfer - Share any files with friends nearby  :  5,000,000+\n",
      "mail.co.uk Mail  :  5,000+\n",
      "ClanPlay: Community and Tools for Gamers  :  1,000,000+\n",
      "CQ-Mobile  :  1,000+\n",
      "CQ-Alert  :  500+\n",
      "QRZ Assistant  :  100,000+\n",
      "Pocket Prefix Plus  :  10,000+\n",
      "Ham Radio Prefixes  :  10,000+\n",
      "CS Customizer  :  1,000+\n",
      "CS Browser | #1 & BEST BROWSER  :  1,000+\n",
      "CS Browser Beta  :  5,000+\n",
      "My Vodafone (GR)  :  1,000,000+\n",
      "IZ2UUF Morse Koch CW  :  50,000+\n",
      "C W Browser  :  100+\n",
      "CW Bluetooth SPP  :  100+\n",
      "CW BLE Peripheral Simulator  :  500+\n",
      "Morse Code Reader  :  100,000+\n",
      "Learn Morse Code - G0HYN Learn Morse  :  5,000+\n",
      "Ring  :  10,000+\n",
      "Hyundai CX Conference  :  50+\n",
      "Cy Messenger  :  100+\n",
      "Amadeus GR & CY  :  100+\n",
      "Hlášenírozhlasu.cz  :  10+\n",
      "SMS Sender - sluzba.cz  :  1,000+\n",
      "WEB.DE Mail  :  10,000,000+\n",
      "Your Freedom VPN Client  :  5,000,000+\n",
      "CallApp: Caller ID, Blocker & Phone Call Recorder  :  10,000,000+\n",
      "Rádio Sol Nascente DF  :  500+\n",
      "DG Card  :  100+\n",
      "Whoscall - Caller ID & Block  :  10,000,000+\n",
      "DK Browser  :  10+\n",
      "cluster.dk  :  1,000+\n",
      "DK TEL Dialer  :  50+\n",
      "DM for WhatsApp  :  5,000+\n",
      "DM Talk New  :  5,000+\n",
      "DM - The Offical Messaging App  :  10+\n",
      "DM Tracker  :  1,000+\n",
      "Call Blocker & Blacklist  :  1,000+\n",
      "ReadyOp DT  :  1,000+\n",
      "DU Browser—Browse fast & fun  :  10,000,000+\n",
      "Caller ID & Call Block - DU Caller  :  5,000,000+\n",
      "BlueDV AMBE  :  1,000+\n",
      "DW Contacts & Phone & Dialer  :  1,000,000+\n",
      "Deaf World DW  :  10,000+\n",
      "Ham DX Cluster & Spots Finder  :  5,000+\n",
      "Mircules DX Cluster Lite  :  5,000+\n",
      "3G DZ Configuration  :  50,000+\n",
      "chat dz  :  100+\n",
      "love sms good morning  :  5,000+\n",
      "Goodbox - Mega App  :  100,000+\n",
      "Call Blocker - Blacklist, SMS Blocker  :  1,000,000+\n",
      "[EF]ShoutBox  :  100+\n",
      "Eg Call  :  10,000+\n",
      "ei  :  10+\n",
      "EJ messenger  :  10+\n",
      "Ek IRA  :  10+\n",
      "Orfox: Tor Browser for Android  :  10,000,000+\n",
      "EO Mumbai  :  10+\n",
      "EP RSS Reader  :  100+\n",
      "Voxer Walkie Talkie Messenger  :  10,000,000+\n",
      "ES-1  :  500+\n",
      "Hangouts Dialer - Call Phones  :  10,000,000+\n",
      "EU Council  :  1,000+\n",
      "Council Voting Calculator  :  5,000+\n",
      "Have your say on Europe  :  500+\n",
      "Programi podrške EU  :  100+\n",
      "Inbox.eu  :  10,000+\n",
      "Web Browser for Android  :  1,000,000+\n",
      "Everbridge  :  100,000+\n",
      "Best Auto Call Recorder Free  :  500+\n",
      "EZ Wifi Notification  :  10,000+\n",
      "Test Server SMS FA  :  5+\n",
      "Lite for Facebook Messenger  :  1,000,000+\n",
      "FC Browser - Focus Privacy Browser  :  1,000+\n",
      "EHiN-FH conferenceapp  :  100+\n",
      "Carpooling FH Hagenberg  :  100+\n",
      "Wi-Fi Auto-connect  :  1,000,000+\n",
      "Talkie - Wi-Fi Calling, Chats, File Sharing  :  500,000+\n",
      "WeFi - Free Fast WiFi Connect & Find Wi-Fi Map  :  1,000,000+\n",
      "Sat-Fi  :  5,000+\n",
      "Portable Wi-Fi hotspot Free  :  100,000+\n",
      "TownWiFi | Wi-Fi Everywhere  :  500,000+\n",
      "Jazz Wi-Fi  :  10,000+\n",
      "Sat-Fi Voice  :  1,000+\n",
      "Free Wi-fi HotspoT  :  50,000+\n",
      "FN Web Radio  :  10+\n",
      "FNH Payment Info  :  10+\n",
      "MARKET FO  :  100+\n",
      "FO OP St-Nazaire  :  100+\n",
      "FO SODEXO  :  100+\n",
      "FO RCBT  :  100+\n",
      "FO Interim  :  100+\n",
      "FO PSA Sept-Fons  :  100+\n",
      "FO AIRBUS TLSE  :  1,000+\n",
      "FO STELIA Méaulte  :  100+\n",
      "FO AIRBUS Nantes  :  100+\n",
      "Firefox Focus: The privacy browser  :  1,000,000+\n",
      "FP Connect  :  100+\n",
      "FreedomPop Messaging Phone/SIM  :  500,000+\n",
      "FP Live  :  10+\n",
      "HipChat - beta version  :  50,000+\n"
     ]
    }
   ],
   "source": [
    "# Parcourons le profil \"Communication\" pour en apprendre plus.\n",
    "for app in android_apps:\n",
    "    if app[1] == \"COMMUNICATION\":\n",
    "        print(app[0], \" : \", app[5])"
   ]
  },
  {
   "cell_type": "markdown",
   "id": "1faf78f7",
   "metadata": {},
   "source": [
    "Il y'a un trop grand nombre d'applis, essayer de consulter ce resultat serait un autre calvaire.\n",
    "\n",
    "Mais un peu plus haut, nous avons pu remarquer que les applis avec 100.000.000 et plus te téléchargement ont un faible pourcentage, essayons de les isoler afin d'obtenir un resultat moins biaisé."
   ]
  },
  {
   "cell_type": "markdown",
   "id": "8cc450f3",
   "metadata": {},
   "source": [
    "**Pour faciliter les choses, écrivons une fonction pour nettoyer le nombre de téléchargement.**"
   ]
  },
  {
   "cell_type": "code",
   "execution_count": 67,
   "id": "5b5d9375",
   "metadata": {},
   "outputs": [],
   "source": [
    "def replace_nb_install_app(nb_install):\n",
    "    nb_install = nb_install.replace(\",\", \"\")\n",
    "    nb_install = nb_install.replace(\"+\", \"\")\n",
    "    nb_install = float(nb_install)\n",
    "    return nb_install"
   ]
  },
  {
   "cell_type": "code",
   "execution_count": 68,
   "id": "c6864616",
   "metadata": {},
   "outputs": [
    {
     "name": "stdout",
     "output_type": "stream",
     "text": [
      "WhatsApp Messenger  :  1,000,000,000+\n",
      "imo beta free calls and text  :  100,000,000+\n",
      "Android Messages  :  100,000,000+\n",
      "Google Duo - High Quality Video Calls  :  500,000,000+\n",
      "Messenger – Text and Video Chat for Free  :  1,000,000,000+\n",
      "imo free video calls and chat  :  500,000,000+\n",
      "Skype - free IM & video calls  :  1,000,000,000+\n",
      "Who  :  100,000,000+\n",
      "GO SMS Pro - Messenger, Free Themes, Emoji  :  100,000,000+\n",
      "LINE: Free Calls & Messages  :  500,000,000+\n",
      "Google Chrome: Fast & Secure  :  1,000,000,000+\n",
      "Firefox Browser fast & private  :  100,000,000+\n",
      "UC Browser - Fast Download Private & Secure  :  500,000,000+\n",
      "Gmail  :  1,000,000,000+\n",
      "Hangouts  :  1,000,000,000+\n",
      "Messenger Lite: Free Calls & Messages  :  100,000,000+\n",
      "Kik  :  100,000,000+\n",
      "KakaoTalk: Free Calls & Text  :  100,000,000+\n",
      "Opera Mini - fast web browser  :  100,000,000+\n",
      "Opera Browser: Fast and Secure  :  100,000,000+\n",
      "Telegram  :  100,000,000+\n",
      "Truecaller: Caller ID, SMS spam blocking & Dialer  :  100,000,000+\n",
      "UC Browser Mini -Tiny Fast Private & Secure  :  100,000,000+\n",
      "Viber Messenger  :  500,000,000+\n",
      "WeChat  :  100,000,000+\n",
      "Yahoo Mail – Stay Organized  :  100,000,000+\n",
      "BBM - Free Calls & Messages  :  100,000,000+\n"
     ]
    }
   ],
   "source": [
    "# isolons les applis de profil \"Communication\" ayant plus de 100.000.000 de telechargement.\n",
    "for app in android_apps:\n",
    "    n_installs = app[5]\n",
    "    n_installs = replace_nb_install_app(n_installs)\n",
    "    if app[1] == \"COMMUNICATION\" and n_installs >= 100000000:\n",
    "        print(app[0], \" : \", app[5])"
   ]
  },
  {
   "cell_type": "markdown",
   "id": "7ea246fb",
   "metadata": {},
   "source": [
    "Calculons maintenant la moyenne sans ces applis et sans celles dont le nombre de téléchargement est en dessous de 500.000."
   ]
  },
  {
   "cell_type": "code",
   "execution_count": 76,
   "id": "75c3e120",
   "metadata": {},
   "outputs": [],
   "source": [
    "avg_under_100_M = []\n",
    "for category in android_categories:\n",
    "    total = 0\n",
    "    len_category = 0\n",
    "    for app in android_apps:\n",
    "            category_app = app[1]\n",
    "            if category_app == category:\n",
    "                n_installs = app[5]\n",
    "                n_installs = replace_nb_install_app(n_installs)\n",
    "                if n_installs >= 500000 and n_installs <= 100000000:\n",
    "                    total += n_installs\n",
    "                    len_category += 1\n",
    "    avg_n_install = total/len_category\n",
    "    avg_under_100_M.append((avg_n_install, category))\n",
    "    \n",
    "avg_under_100_M = [(app[1], app[0]) for app in sorted(avg_under_100_M, reverse=True)]"
   ]
  },
  {
   "cell_type": "code",
   "execution_count": 77,
   "id": "aa215724",
   "metadata": {},
   "outputs": [
    {
     "data": {
      "text/plain": [
       "[('PHOTOGRAPHY', 19967213.1147541),\n",
       " ('COMMUNICATION', 18500000.0),\n",
       " ('PRODUCTIVITY', 17983870.967741936),\n",
       " ('GAME', 17760647.359454855),\n",
       " ('VIDEO_PLAYERS', 16627906.976744186),\n",
       " ('TOOLS', 15605442.176870748),\n",
       " ('SOCIAL', 13623853.211009175),\n",
       " ('ENTERTAINMENT', 13358108.108108109),\n",
       " ('PERSONALIZATION', 12111111.111111112),\n",
       " ('SHOPPING', 11274193.548387097),\n",
       " ('BOOKS_AND_REFERENCE', 9750000.0),\n",
       " ('BUSINESS', 9000000.0),\n",
       " ('TRAVEL_AND_LOCAL', 8925000.0),\n",
       " ('MAPS_AND_NAVIGATION', 8798245.614035089),\n",
       " ('SPORTS', 8261363.636363637),\n",
       " ('FAMILY', 7825757.575757576),\n",
       " ('WEATHER', 7479166.666666667),\n",
       " ('ART_AND_DESIGN', 6937500.0),\n",
       " ('LIFESTYLE', 4920000.0),\n",
       " ('HEALTH_AND_FITNESS', 4604316.54676259),\n",
       " ('NEWS_AND_MAGAZINES', 4189655.172413793),\n",
       " ('FINANCE', 4128440.366972477),\n",
       " ('FOOD_AND_DRINK', 3741071.4285714286),\n",
       " ('DATING', 2705882.3529411764),\n",
       " ('LIBRARIES_AND_DEMO', 2684210.5263157897),\n",
       " ('EDUCATION', 2590277.777777778),\n",
       " ('HOUSE_AND_HOME', 2448717.9487179485),\n",
       " ('AUTO_AND_VEHICLES', 2195652.1739130435),\n",
       " ('EVENTS', 2071428.5714285714),\n",
       " ('COMICS', 2071428.5714285714),\n",
       " ('PARENTING', 1638888.888888889),\n",
       " ('BEAUTY', 1625000.0),\n",
       " ('MEDICAL', 1066666.6666666667)]"
      ]
     },
     "execution_count": 77,
     "metadata": {},
     "output_type": "execute_result"
    }
   ],
   "source": [
    "avg_under_100_M"
   ]
  },
  {
   "cell_type": "markdown",
   "id": "60338684",
   "metadata": {},
   "source": [
    "En essayant cette manipulation, nous pouvons remarquer que, contrairement aux autres profils du top 10, le profil \"BOOKS_AND_REFERENCE\" maintient une position assez stable pour gagner notre confiance.\n",
    "\n",
    "Essayons de connaitre la tendence au sein de ce profil d'applications."
   ]
  },
  {
   "cell_type": "code",
   "execution_count": 81,
   "id": "4caccc04",
   "metadata": {},
   "outputs": [
    {
     "name": "stdout",
     "output_type": "stream",
     "text": [
      "Wikipedia  :  10,000,000+\n",
      "Cool Reader  :  10,000,000+\n",
      "Book store  :  1,000,000+\n",
      "FBReader: Favorite Book Reader  :  10,000,000+\n",
      "Free Books - Spirit Fanfiction and Stories  :  1,000,000+\n",
      "AlReader -any text book reader  :  5,000,000+\n",
      "FamilySearch Tree  :  1,000,000+\n",
      "Cloud of Books  :  1,000,000+\n",
      "ReadEra – free ebook reader  :  1,000,000+\n",
      "Ebook Reader  :  5,000,000+\n",
      "Read books online  :  5,000,000+\n",
      "eBoox: book reader fb2 epub zip  :  1,000,000+\n",
      "All Maths Formulas  :  1,000,000+\n",
      "Ancestry  :  5,000,000+\n",
      "HTC Help  :  10,000,000+\n",
      "Moon+ Reader  :  10,000,000+\n",
      "English-Myanmar Dictionary  :  1,000,000+\n",
      "Golden Dictionary (EN-AR)  :  1,000,000+\n",
      "All Language Translator Free  :  1,000,000+\n",
      "Bible  :  100,000,000+\n",
      "Amazon Kindle  :  100,000,000+\n",
      "Aldiko Book Reader  :  10,000,000+\n",
      "Wattpad 📖 Free Books  :  100,000,000+\n",
      "Dictionary - WordWeb  :  5,000,000+\n",
      "50000 Free eBooks & Free AudioBooks  :  5,000,000+\n",
      "Al-Quran (Free)  :  10,000,000+\n",
      "Al Quran Indonesia  :  10,000,000+\n",
      "Al'Quran Bahasa Indonesia  :  10,000,000+\n",
      "Al Quran Al karim  :  1,000,000+\n",
      "Al Quran : EAlim - Translations & MP3 Offline  :  5,000,000+\n",
      "Koran Read &MP3 30 Juz Offline  :  1,000,000+\n",
      "Hafizi Quran 15 lines per page  :  1,000,000+\n",
      "Quran for Android  :  10,000,000+\n",
      "Satellite AR  :  1,000,000+\n",
      "Audiobooks from Audible  :  100,000,000+\n",
      "Oxford A-Z of English Usage  :  1,000,000+\n",
      "Dictionary.com: Find Definitions for English Words  :  10,000,000+\n",
      "English Dictionary - Offline  :  10,000,000+\n",
      "Bible KJV  :  5,000,000+\n",
      "NOOK: Read eBooks & Magazines  :  10,000,000+\n",
      "Brilliant Quotes: Life, Love, Family & Motivation  :  1,000,000+\n",
      "Stats Royale for Clash Royale  :  1,000,000+\n",
      "Dictionary  :  10,000,000+\n",
      "wikiHow: how to do anything  :  1,000,000+\n",
      "EGW Writings  :  1,000,000+\n",
      "My Little Pony AR Guide  :  1,000,000+\n",
      "Spanish English Translator  :  10,000,000+\n",
      "Dictionary - Merriam-Webster  :  10,000,000+\n",
      "JW Library  :  10,000,000+\n",
      "Oxford Dictionary of English : Free  :  10,000,000+\n",
      "English Hindi Dictionary  :  10,000,000+\n",
      "English to Hindi Dictionary  :  5,000,000+\n"
     ]
    }
   ],
   "source": [
    "for app in android_apps:\n",
    "    n_installs = app[5]\n",
    "    n_installs = replace_nb_install_app(n_installs)\n",
    "    if app[1] == \"BOOKS_AND_REFERENCE\" and (n_installs >= 1000000 and n_installs <= 100000000):\n",
    "        print(app[0], \" : \", app[5])"
   ]
  },
  {
   "cell_type": "markdown",
   "id": "3e162a94",
   "metadata": {},
   "source": [
    "Les livres occupent une grande partie de ce profil, ce qui nous pousse à dire que le utilisateurs sont plus branché sur la lecture. Mais vu toute cette panoplie de livres, proposer un livre avec des fonctionalités standards pourrait ne pas produire le resultat escompté."
   ]
  },
  {
   "cell_type": "markdown",
   "id": "9a2a13c1",
   "metadata": {},
   "source": [
    "### Conclusion"
   ]
  },
  {
   "cell_type": "markdown",
   "id": "ff1b3336",
   "metadata": {},
   "source": [
    "Dans ce projet, nous avons analysé des données sur les applications mobiles App Store et Google Play dans le but de recommander un profil d'application pouvant être rentable pour les deux marchés.\n",
    "\n",
    "Nous proposons donc à l'équipe de developpeurs de créer une application qui donne accès un livre populaire et y ajouter des fonctionalités qui attirerait les adeptes d'autres profils de contenue comme :\n",
    "* Dictionnaire : possibilité de pouvoir, sans quitter l'app, trouver la definition des mots difficiles\n",
    "* Chat ou Forum : possibilité de discuter sur une thématique autour du livre en question\n",
    "* Multilingue\n",
    "* Version audio (pour élargir la champs d'utilisateurs cible)\n",
    "* Etc ."
   ]
  }
 ],
 "metadata": {
  "kernelspec": {
   "display_name": "Python 3",
   "language": "python",
   "name": "python3"
  },
  "language_info": {
   "codemirror_mode": {
    "name": "ipython",
    "version": 3
   },
   "file_extension": ".py",
   "mimetype": "text/x-python",
   "name": "python",
   "nbconvert_exporter": "python",
   "pygments_lexer": "ipython3",
   "version": "3.8.8"
  }
 },
 "nbformat": 4,
 "nbformat_minor": 5
}
